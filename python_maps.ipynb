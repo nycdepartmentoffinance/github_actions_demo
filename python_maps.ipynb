{
 "cells": [
  {
   "cell_type": "code",
   "execution_count": null,
   "id": "65890ffe",
   "metadata": {},
   "outputs": [],
   "source": [
    "# read in input data\n",
    "import geopandas as gpd\n",
    "gdf = gpd.read_parquet(\"output/block_polygons.parquet\")\n",
    "gdf"
   ]
  },
  {
   "cell_type": "code",
   "execution_count": null,
   "id": "9d61fe52",
   "metadata": {},
   "outputs": [],
   "source": [
    "# static maps with matplotlib\n",
    "import matplotlib.pyplot as plt\n",
    "\n",
    "ax = gdf.plot(figsize=(10, 10), edgecolor='black')\n",
    "\n",
    "plt.title(\"Blocks\")\n",
    "plt.xlabel(\"Longitude\")\n",
    "plt.ylabel(\"Latitude\")\n",
    "\n",
    "plt.show()"
   ]
  },
  {
   "cell_type": "code",
   "execution_count": null,
   "id": "1e5393ff",
   "metadata": {},
   "outputs": [],
   "source": [
    "# static map with basemap using contextily\n",
    "import matplotlib.pyplot as plt\n",
    "import contextily as ctx\n",
    "\n",
    "ax = gdf.plot(figsize=(10, 10), edgecolor='black')\n",
    "\n",
    "plt.title(\"Blocks\")\n",
    "plt.xlabel(\"Longitude\")\n",
    "plt.ylabel(\"Latitude\")\n",
    "\n",
    "ctx.add_basemap(ax, crs=gdf.crs.to_string(), source=ctx.providers.CartoDB.Positron)\n",
    "plt.show()"
   ]
  },
  {
   "cell_type": "code",
   "execution_count": null,
   "id": "208b9f16",
   "metadata": {},
   "outputs": [],
   "source": [
    "# interactive maps with plotly\n",
    "import plotly.express as px\n",
    "\n",
    "fig = px.choropleth_map(\n",
    "    gdf,\n",
    "    geojson=gdf.geometry,\n",
    "    locations=gdf.index, \n",
    "    color=\"BLOCK\",   # Change to a column you want to shade by\n",
    "    map_style=\"carto-positron\",\n",
    "    zoom=9,\n",
    "    center={\"lat\": 40.7128, \"lon\": -74.0060},\n",
    "    opacity=0.6,\n",
    ")\n",
    "fig.update_layout(margin={\"r\":0,\"t\":0,\"l\":0,\"b\":0})\n",
    "fig.show()"
   ]
  }
 ],
 "metadata": {
  "kernelspec": {
   "display_name": "geospatial-data",
   "language": "python",
   "name": "python3"
  },
  "language_info": {
   "codemirror_mode": {
    "name": "ipython",
    "version": 3
   },
   "file_extension": ".py",
   "mimetype": "text/x-python",
   "name": "python",
   "nbconvert_exporter": "python",
   "pygments_lexer": "ipython3",
   "version": "3.11.5"
  }
 },
 "nbformat": 4,
 "nbformat_minor": 5
}
